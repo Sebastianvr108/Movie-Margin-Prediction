{
  "nbformat": 4,
  "nbformat_minor": 0,
  "metadata": {
    "colab": {
      "provenance": [],
      "toc_visible": true
    },
    "kernelspec": {
      "name": "python3",
      "display_name": "Python 3"
    },
    "language_info": {
      "name": "python"
    }
  },
  "cells": [
    {
      "cell_type": "code",
      "source": [
        "from google.colab import drive\n",
        "drive.mount('/content/drive')\n",
        "%cd /content/drive/MyDrive/Thesis/"
      ],
      "metadata": {
        "colab": {
          "base_uri": "https://localhost:8080/"
        },
        "id": "3orbDpLlZqlT",
        "outputId": "2e44db4a-2950-48d0-b032-f76b480d6fb2"
      },
      "execution_count": null,
      "outputs": [
        {
          "output_type": "stream",
          "name": "stdout",
          "text": [
            "Mounted at /content/drive\n",
            "/content/drive/MyDrive/Thesis\n"
          ]
        }
      ]
    },
    {
      "cell_type": "code",
      "source": [
        "import pandas as pd\n",
        "df = pd.read_csv(\"Final_Filtered.csv\")\n"
      ],
      "metadata": {
        "id": "8cvZNNLvkJ7m"
      },
      "execution_count": null,
      "outputs": []
    },
    {
      "cell_type": "code",
      "source": [
        "df['cluster'] = df['cluster'].replace({\n",
        "     'Loss': 0, \n",
        "    'medium to average profit' : 1, \n",
        "    'Blockbuster' : 2\n",
        "})"
      ],
      "metadata": {
        "id": "Vp7Uf7SY-F9e"
      },
      "execution_count": null,
      "outputs": []
    },
    {
      "cell_type": "code",
      "source": [
        "print(train_df.info())"
      ],
      "metadata": {
        "colab": {
          "base_uri": "https://localhost:8080/"
        },
        "id": "5f-URtqSzY3x",
        "outputId": "508d6596-ffa3-4da1-bd91-473994beab09"
      },
      "execution_count": null,
      "outputs": [
        {
          "output_type": "stream",
          "name": "stdout",
          "text": [
            "<class 'pandas.core.frame.DataFrame'>\n",
            "Int64Index: 2370 entries, 61 to 2430\n",
            "Data columns (total 25 columns):\n",
            " #   Column                                Non-Null Count  Dtype  \n",
            "---  ------                                --------------  -----  \n",
            " 0   Avg_Screenwriter_Per_Screenwriter     2370 non-null   float64\n",
            " 1   Avg_Producer_Per_Producer             2370 non-null   float64\n",
            " 2   Avg_Director_Per_Director             2370 non-null   float64\n",
            " 3   budget                                2370 non-null   int64  \n",
            " 4   movies                                2370 non-null   int64  \n",
            " 5   starpower                             2370 non-null   int64  \n",
            " 6   Average_Billing                       2370 non-null   float64\n",
            " 7   Movies_Producer_Per_Producer          2370 non-null   float64\n",
            " 8   Running_Time                          2370 non-null   float64\n",
            " 9   Movies_Screenwriter_Per_Screenwriter  2370 non-null   float64\n",
            " 10  Sentiment_Score_imdb                  2370 non-null   float64\n",
            " 11  Num_Executive                         2370 non-null   int64  \n",
            " 12  Movies_Director_Per_Director          2370 non-null   float64\n",
            " 13  Value                                 2370 non-null   float64\n",
            " 14  Genre_y_Action                        2370 non-null   int64  \n",
            " 15  Genre_y_Adventure                     2370 non-null   int64  \n",
            " 16  Genre_y_Comedy                        2370 non-null   int64  \n",
            " 17  Genre_y_Drama                         2370 non-null   int64  \n",
            " 18  Genre_y_Horror                        2370 non-null   int64  \n",
            " 19  Genre_y_Other                         2370 non-null   int64  \n",
            " 20  starpower.1                           2370 non-null   int64  \n",
            " 21  Genre_y_Thriller/Suspense             2370 non-null   int64  \n",
            " 22  Num_Screenwriter                      2370 non-null   int64  \n",
            " 23  cluster                               2370 non-null   int64  \n",
            " 24  Year_x                                2370 non-null   int64  \n",
            "dtypes: float64(10), int64(15)\n",
            "memory usage: 545.9 KB\n",
            "None\n"
          ]
        }
      ]
    },
    {
      "cell_type": "code",
      "source": [
        "# Split the data into training and test sets based on year\n",
        "train_df = df[df['Year_x'] < 2022].copy()\n",
        "test_df = df[df['Year_x'] == 2022].copy()\n",
        "\n",
        "# Select only the relevant columns\n",
        "train_X = train_df.drop('cluster', axis=1)\n",
        "train_y = train_df['cluster']\n",
        "test_X = test_df.drop('cluster', axis=1)\n",
        "test_y = test_df['cluster']\n",
        "\n",
        "\n"
      ],
      "metadata": {
        "id": "fG6GA8qlOM0-"
      },
      "execution_count": null,
      "outputs": []
    },
    {
      "cell_type": "code",
      "source": [
        "from sklearn.ensemble import RandomForestClassifier\n",
        "from sklearn.impute import SimpleImputer\n",
        "from sklearn.metrics import accuracy_score, precision_recall_fscore_support\n",
        "\n",
        "# Create imputer object\n",
        "imputer = SimpleImputer(strategy='median')\n",
        "\n",
        "# Impute missing values in train and test data\n",
        "train_X = imputer.fit_transform(train_X)\n",
        "test_X = imputer.transform(test_X)\n",
        "\n",
        "# Train a random forest classifier with 30 trees\n",
        "clf = RandomForestClassifier(n_estimators=40, random_state=108)\n",
        "clf.fit(train_X, train_y)\n",
        "\n",
        "# Predict the clusters for the test data\n",
        "pred_y = clf.predict(test_X)\n",
        "\n",
        "# Calculate accuracy, precision, recall, F1-score, and support\n",
        "accuracy = accuracy_score(test_y, pred_y)\n",
        "precision, recall, f1_score, support = precision_recall_fscore_support(test_y, pred_y)\n",
        "\n",
        "# Print the evaluation metrics\n",
        "print(f\"Accuracy: {accuracy}\")\n",
        "print(f\"Precision: {precision}\")\n",
        "print(f\"Recall: {recall}\")\n",
        "print(f\"F1-score: {f1_score}\")\n",
        "print(f\"Support: {support}\")\n"
      ],
      "metadata": {
        "colab": {
          "base_uri": "https://localhost:8080/"
        },
        "id": "dYvq86dRZqW1",
        "outputId": "f752cf27-50f3-44b0-cc22-3ae20c56cc0b"
      },
      "execution_count": null,
      "outputs": [
        {
          "output_type": "stream",
          "name": "stdout",
          "text": [
            "Accuracy: 0.7377049180327869\n",
            "Precision: [0.92857143 0.57142857 0.58333333]\n",
            "Recall: [0.72222222 0.66666667 1.        ]\n",
            "F1-score: [0.8125     0.61538462 0.73684211]\n",
            "Support: [36 18  7]\n"
          ]
        }
      ]
    },
    {
      "cell_type": "code",
      "source": [
        "print(test_df.info())"
      ],
      "metadata": {
        "colab": {
          "base_uri": "https://localhost:8080/"
        },
        "id": "KfNTEXgzz--h",
        "outputId": "317486e4-a331-4896-d1ca-0c1288bd9685"
      },
      "execution_count": null,
      "outputs": [
        {
          "output_type": "stream",
          "name": "stdout",
          "text": [
            "<class 'pandas.core.frame.DataFrame'>\n",
            "Int64Index: 61 entries, 0 to 60\n",
            "Data columns (total 25 columns):\n",
            " #   Column                                Non-Null Count  Dtype  \n",
            "---  ------                                --------------  -----  \n",
            " 0   Avg_Screenwriter_Per_Screenwriter     61 non-null     float64\n",
            " 1   Avg_Producer_Per_Producer             61 non-null     float64\n",
            " 2   Avg_Director_Per_Director             61 non-null     float64\n",
            " 3   budget                                61 non-null     int64  \n",
            " 4   movies                                61 non-null     int64  \n",
            " 5   starpower                             61 non-null     int64  \n",
            " 6   Average_Billing                       61 non-null     float64\n",
            " 7   Movies_Producer_Per_Producer          61 non-null     float64\n",
            " 8   Running_Time                          61 non-null     float64\n",
            " 9   Movies_Screenwriter_Per_Screenwriter  61 non-null     float64\n",
            " 10  Sentiment_Score_imdb                  61 non-null     float64\n",
            " 11  Num_Executive                         61 non-null     int64  \n",
            " 12  Movies_Director_Per_Director          61 non-null     float64\n",
            " 13  Value                                 61 non-null     float64\n",
            " 14  Genre_y_Action                        61 non-null     int64  \n",
            " 15  Genre_y_Adventure                     61 non-null     int64  \n",
            " 16  Genre_y_Comedy                        61 non-null     int64  \n",
            " 17  Genre_y_Drama                         61 non-null     int64  \n",
            " 18  Genre_y_Horror                        61 non-null     int64  \n",
            " 19  Genre_y_Other                         61 non-null     int64  \n",
            " 20  starpower.1                           61 non-null     int64  \n",
            " 21  Genre_y_Thriller/Suspense             61 non-null     int64  \n",
            " 22  Num_Screenwriter                      61 non-null     int64  \n",
            " 23  cluster                               61 non-null     int64  \n",
            " 24  Year_x                                61 non-null     int64  \n",
            "dtypes: float64(10), int64(15)\n",
            "memory usage: 12.4 KB\n",
            "None\n"
          ]
        }
      ]
    },
    {
      "cell_type": "code",
      "source": [
        "from sklearn.metrics import accuracy_score, precision_recall_fscore_support\n",
        "\n",
        "# Define the list of genres to evaluate\n",
        "genres = ['Thriller/Suspense', 'Horror', 'Adventure', 'Action', 'Drama', 'Comedy', 'Other']\n",
        "\n",
        "# Evaluate the model on each genre\n",
        "for genre in genres:\n",
        "    # Filter the data by genre\n",
        "    genre_df = test_df[test_df['Genre_y_' + genre] == 1]  # Filter based on genre column\n",
        "\n",
        "    X = genre_df.drop('cluster', axis=1)  # Input features without the 'cluster' column\n",
        "    y = genre_df['cluster']  # Target variable 'cluster'\n",
        "\n",
        "    # Make predictions using the model\n",
        "    y_pred = clf.predict(X)\n",
        "\n",
        "    # Evaluate the accuracy of the model\n",
        "    accuracy = accuracy_score(y, y_pred)\n",
        "    print(f\"Accuracy for {genre}: {accuracy}\")\n",
        "\n",
        "    # Calculate precision, recall, f1-score, and support for each category\n",
        "    precision, recall, f1_score, support = precision_recall_fscore_support(y, y_pred)\n",
        "\n",
        "    for i in range(len(precision)):\n",
        "        print(f\"Category {i}: Precision={precision[i]}, Recall={recall[i]}, F1-score={f1_score[i]}, Support={support[i]}\")\n"
      ],
      "metadata": {
        "colab": {
          "base_uri": "https://localhost:8080/"
        },
        "id": "sZY7KZCL3NzM",
        "outputId": "777da4d0-0400-49b1-cde7-517fd174c0f7"
      },
      "execution_count": null,
      "outputs": [
        {
          "output_type": "stream",
          "name": "stdout",
          "text": [
            "Accuracy for Thriller/Suspense: 0.8571428571428571\n",
            "Category 0: Precision=1.0, Recall=0.8333333333333334, F1-score=0.9090909090909091, Support=6\n",
            "Category 1: Precision=0.5, Recall=1.0, F1-score=0.6666666666666666, Support=1\n",
            "Accuracy for Horror: 0.7142857142857143\n",
            "Category 0: Precision=0.75, Recall=0.75, F1-score=0.75, Support=4\n",
            "Category 1: Precision=0.6666666666666666, Recall=0.6666666666666666, F1-score=0.6666666666666666, Support=3\n",
            "Accuracy for Adventure: 0.5454545454545454\n",
            "Category 0: Precision=1.0, Recall=0.6, F1-score=0.7499999999999999, Support=5\n",
            "Category 1: Precision=0.6, Recall=0.5, F1-score=0.5454545454545454, Support=6\n",
            "Category 2: Precision=0.0, Recall=0.0, F1-score=0.0, Support=0\n",
            "Accuracy for Action: 0.8333333333333334\n",
            "Category 0: Precision=0.8888888888888888, Recall=0.8888888888888888, F1-score=0.8888888888888888, Support=9\n",
            "Category 1: Precision=1.0, Recall=0.3333333333333333, F1-score=0.5, Support=3\n",
            "Category 2: Precision=0.75, Recall=1.0, F1-score=0.8571428571428571, Support=6\n",
            "Accuracy for Drama: 0.875\n",
            "Category 0: Precision=1.0, Recall=0.8, F1-score=0.888888888888889, Support=5\n",
            "Category 1: Precision=0.75, Recall=1.0, F1-score=0.8571428571428571, Support=3\n",
            "Accuracy for Comedy: 0.7142857142857143\n",
            "Category 0: Precision=1.0, Recall=0.6, F1-score=0.7499999999999999, Support=5\n",
            "Category 1: Precision=0.3333333333333333, Recall=1.0, F1-score=0.5, Support=1\n",
            "Category 2: Precision=1.0, Recall=1.0, F1-score=1.0, Support=1\n",
            "Accuracy for Other: 0.3333333333333333\n",
            "Category 0: Precision=0.0, Recall=0.0, F1-score=0.0, Support=2\n",
            "Category 1: Precision=0.3333333333333333, Recall=1.0, F1-score=0.5, Support=1\n"
          ]
        },
        {
          "output_type": "stream",
          "name": "stderr",
          "text": [
            "/usr/local/lib/python3.10/dist-packages/sklearn/base.py:432: UserWarning: X has feature names, but RandomForestClassifier was fitted without feature names\n",
            "  warnings.warn(\n",
            "/usr/local/lib/python3.10/dist-packages/sklearn/base.py:432: UserWarning: X has feature names, but RandomForestClassifier was fitted without feature names\n",
            "  warnings.warn(\n",
            "/usr/local/lib/python3.10/dist-packages/sklearn/base.py:432: UserWarning: X has feature names, but RandomForestClassifier was fitted without feature names\n",
            "  warnings.warn(\n",
            "/usr/local/lib/python3.10/dist-packages/sklearn/metrics/_classification.py:1344: UndefinedMetricWarning: Recall and F-score are ill-defined and being set to 0.0 in labels with no true samples. Use `zero_division` parameter to control this behavior.\n",
            "  _warn_prf(average, modifier, msg_start, len(result))\n",
            "/usr/local/lib/python3.10/dist-packages/sklearn/base.py:432: UserWarning: X has feature names, but RandomForestClassifier was fitted without feature names\n",
            "  warnings.warn(\n",
            "/usr/local/lib/python3.10/dist-packages/sklearn/base.py:432: UserWarning: X has feature names, but RandomForestClassifier was fitted without feature names\n",
            "  warnings.warn(\n",
            "/usr/local/lib/python3.10/dist-packages/sklearn/base.py:432: UserWarning: X has feature names, but RandomForestClassifier was fitted without feature names\n",
            "  warnings.warn(\n",
            "/usr/local/lib/python3.10/dist-packages/sklearn/base.py:432: UserWarning: X has feature names, but RandomForestClassifier was fitted without feature names\n",
            "  warnings.warn(\n",
            "/usr/local/lib/python3.10/dist-packages/sklearn/metrics/_classification.py:1344: UndefinedMetricWarning: Precision and F-score are ill-defined and being set to 0.0 in labels with no predicted samples. Use `zero_division` parameter to control this behavior.\n",
            "  _warn_prf(average, modifier, msg_start, len(result))\n"
          ]
        }
      ]
    },
    {
      "cell_type": "code",
      "source": [
        "from sklearn.metrics import precision_recall_fscore_support\n",
        "\n",
        "# Calculate precision, recall, f1-score, and support for each category\n",
        "precision, recall, f1_score, support = precision_recall_fscore_support(test_y, pred_y)\n",
        "\n",
        "# Print the results for each category\n",
        "for i in range(len(precision)):\n",
        "    print(f\"Category {i}: Precision={precision[i]}, Recall={recall[i]}, F1-score={f1_score[i]}, Support={support[i]}\")"
      ],
      "metadata": {
        "colab": {
          "base_uri": "https://localhost:8080/"
        },
        "id": "koAKdyRmaZ58",
        "outputId": "5d54d791-1efb-46d7-a6b6-6d0c4f172e59"
      },
      "execution_count": null,
      "outputs": [
        {
          "output_type": "stream",
          "name": "stdout",
          "text": [
            "Category 0: Precision=0.9285714285714286, Recall=0.7222222222222222, F1-score=0.8125000000000001, Support=36\n",
            "Category 1: Precision=0.5714285714285714, Recall=0.6666666666666666, F1-score=0.6153846153846153, Support=18\n",
            "Category 2: Precision=0.5833333333333334, Recall=1.0, F1-score=0.7368421052631579, Support=7\n"
          ]
        }
      ]
    },
    {
      "cell_type": "code",
      "source": [
        "from sklearn.metrics import precision_recall_fscore_support, confusion_matrix\n",
        "\n",
        "# Calculate precision, recall, f1-score, and support for each category\n",
        "precision, recall, f1_score, support = precision_recall_fscore_support(test_y, pred_y)\n",
        "\n",
        "# Print the results for each category\n",
        "for i in range(len(precision)):\n",
        "    print(f\"Category {i}: Precision={precision[i]}, Recall={recall[i]}, F1-score={f1_score[i]}, Support={support[i]}\")\n",
        "\n",
        "# Generate the confusion matrix\n",
        "confusion_matrix_result = confusion_matrix(test_y, pred_y)\n",
        "print(\"Confusion Matrix:\")\n",
        "print(confusion_matrix_result)\n"
      ],
      "metadata": {
        "colab": {
          "base_uri": "https://localhost:8080/"
        },
        "id": "IOS-btFdZHZR",
        "outputId": "3b5c47ef-60cf-41b4-d0c4-5fd985891546"
      },
      "execution_count": null,
      "outputs": [
        {
          "output_type": "stream",
          "name": "stdout",
          "text": [
            "Category 0: Precision=0.9285714285714286, Recall=0.7222222222222222, F1-score=0.8125000000000001, Support=36\n",
            "Category 1: Precision=0.5714285714285714, Recall=0.6666666666666666, F1-score=0.6153846153846153, Support=18\n",
            "Category 2: Precision=0.5833333333333334, Recall=1.0, F1-score=0.7368421052631579, Support=7\n",
            "Confusion Matrix:\n",
            "[[26  9  1]\n",
            " [ 2 12  4]\n",
            " [ 0  0  7]]\n"
          ]
        }
      ]
    }
  ]
}